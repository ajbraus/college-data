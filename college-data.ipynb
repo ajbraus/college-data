{
 "cells": [
  {
   "cell_type": "code",
   "execution_count": 152,
   "metadata": {},
   "outputs": [],
   "source": [
    "import numpy as np\n",
    "import pandas as pd\n",
    "import matplotlib.pyplot as plt\n",
    "import seaborn as sns"
   ]
  },
  {
   "cell_type": "code",
   "execution_count": 153,
   "metadata": {
    "scrolled": true
   },
   "outputs": [
    {
     "data": {
      "text/plain": [
       "name                            object\n",
       "state                           object\n",
       "location                        object\n",
       "control                         object\n",
       "for_profit                       int64\n",
       "religious_controlled             int64\n",
       "religious_orentation            object\n",
       "degree_type                     object\n",
       "focus                           object\n",
       "founded_in              datetime64[ns]\n",
       "closed_merged_in                object\n",
       "done                            object\n",
       "closed_reason                   object\n",
       "enrollment                      object\n",
       "historically_black              object\n",
       "accreditation                   object\n",
       "dtype: object"
      ]
     },
     "execution_count": 153,
     "metadata": {},
     "output_type": "execute_result"
    }
   ],
   "source": [
    "df = pd.read_csv('college-data.csv')\n",
    "df['founded_in'] = df['founded_in'].astype(int, errors='ignore')\n",
    "df['founded_in'] = pd.to_datetime(df['founded_in'], format='%Y')\n",
    "df['for_profit'] = df['for_profit'].astype(int)\n",
    "# df['closed_merged_in'] = df['closed_merged_in'].astype(int, errors='ignore')\n",
    "# df['closed_merged_in'] = pd.to_datetime(df['closed_merged_in'], format='%Y')\n",
    "\n",
    "df.dtypes\n",
    "# df['for_profit'] = df['for_profit'].astype(bool)\n",
    "# df['religious_controlled'] = df['religious_controlled'].astype(bool)\n",
    "# df.head(25)"
   ]
  },
  {
   "cell_type": "code",
   "execution_count": 154,
   "metadata": {},
   "outputs": [],
   "source": [
    "degree_types = [\"Doctoral University\", \"Baccalaureate College\", \"Liberal Arts\", \"Masters University\"]\n",
    "degree_filter = df['degree_type'].isin(degree_types)\n",
    "\n",
    "colleges = df[degree_filter]\n",
    "# colleges.head(50)"
   ]
  },
  {
   "cell_type": "code",
   "execution_count": 4,
   "metadata": {},
   "outputs": [
    {
     "data": {
      "text/html": [
       "<div>\n",
       "<style scoped>\n",
       "    .dataframe tbody tr th:only-of-type {\n",
       "        vertical-align: middle;\n",
       "    }\n",
       "\n",
       "    .dataframe tbody tr th {\n",
       "        vertical-align: top;\n",
       "    }\n",
       "\n",
       "    .dataframe thead th {\n",
       "        text-align: right;\n",
       "    }\n",
       "</style>\n",
       "<table border=\"1\" class=\"dataframe\">\n",
       "  <thead>\n",
       "    <tr style=\"text-align: right;\">\n",
       "      <th></th>\n",
       "      <th>name</th>\n",
       "      <th>state</th>\n",
       "      <th>location</th>\n",
       "      <th>control</th>\n",
       "      <th>for_profit</th>\n",
       "      <th>religious_controlled</th>\n",
       "      <th>religious_orentation</th>\n",
       "      <th>degree_type</th>\n",
       "      <th>focus</th>\n",
       "      <th>founded_in</th>\n",
       "      <th>closed_merged_in</th>\n",
       "      <th>done</th>\n",
       "      <th>closed_reason</th>\n",
       "      <th>enrollment</th>\n",
       "      <th>historically_black</th>\n",
       "      <th>accreditation</th>\n",
       "    </tr>\n",
       "  </thead>\n",
       "  <tbody>\n",
       "    <tr>\n",
       "      <th>1</th>\n",
       "      <td>Yale University</td>\n",
       "      <td>Connecticut</td>\n",
       "      <td>New Haven</td>\n",
       "      <td>Private</td>\n",
       "      <td>0</td>\n",
       "      <td>0</td>\n",
       "      <td>Christian</td>\n",
       "      <td>Doctoral University</td>\n",
       "      <td>NaN</td>\n",
       "      <td>1701-01-01</td>\n",
       "      <td>NaN</td>\n",
       "      <td>AJB</td>\n",
       "      <td>NaN</td>\n",
       "      <td>12,458</td>\n",
       "      <td>NaN</td>\n",
       "      <td>NaN</td>\n",
       "    </tr>\n",
       "    <tr>\n",
       "      <th>2</th>\n",
       "      <td>University of Pennsylvania</td>\n",
       "      <td>Pennsylvania</td>\n",
       "      <td>Philadelphia</td>\n",
       "      <td>Private</td>\n",
       "      <td>0</td>\n",
       "      <td>0</td>\n",
       "      <td>Christian</td>\n",
       "      <td>Baccalaureate College</td>\n",
       "      <td>NaN</td>\n",
       "      <td>1740-01-01</td>\n",
       "      <td>NaN</td>\n",
       "      <td>AJB</td>\n",
       "      <td>NaN</td>\n",
       "      <td>25,007</td>\n",
       "      <td>NaN</td>\n",
       "      <td>NaN</td>\n",
       "    </tr>\n",
       "    <tr>\n",
       "      <th>3</th>\n",
       "      <td>Moravian College</td>\n",
       "      <td>Pennsylvania</td>\n",
       "      <td>Bethlehem(Northampton County)</td>\n",
       "      <td>Private</td>\n",
       "      <td>0</td>\n",
       "      <td>0</td>\n",
       "      <td>Moravian</td>\n",
       "      <td>Baccalaureate College</td>\n",
       "      <td>NaN</td>\n",
       "      <td>1742-01-01</td>\n",
       "      <td>NaN</td>\n",
       "      <td>AJB</td>\n",
       "      <td>NaN</td>\n",
       "      <td>2,032</td>\n",
       "      <td>NaN</td>\n",
       "      <td>NaN</td>\n",
       "    </tr>\n",
       "    <tr>\n",
       "      <th>4</th>\n",
       "      <td>Princeton University</td>\n",
       "      <td>New Jersey</td>\n",
       "      <td>Princeton</td>\n",
       "      <td>Private</td>\n",
       "      <td>0</td>\n",
       "      <td>0</td>\n",
       "      <td>Christian</td>\n",
       "      <td>Doctoral University</td>\n",
       "      <td>NaN</td>\n",
       "      <td>1746-01-01</td>\n",
       "      <td>NaN</td>\n",
       "      <td>AJB</td>\n",
       "      <td>NaN</td>\n",
       "      <td>8,010</td>\n",
       "      <td>NaN</td>\n",
       "      <td>MSCHE</td>\n",
       "    </tr>\n",
       "    <tr>\n",
       "      <th>5</th>\n",
       "      <td>Washington and Lee University</td>\n",
       "      <td>Virginia</td>\n",
       "      <td>Lexington</td>\n",
       "      <td>Private</td>\n",
       "      <td>0</td>\n",
       "      <td>0</td>\n",
       "      <td>Christian</td>\n",
       "      <td>Baccalaureate College</td>\n",
       "      <td>NaN</td>\n",
       "      <td>1749-01-01</td>\n",
       "      <td>NaN</td>\n",
       "      <td>AJB</td>\n",
       "      <td>NaN</td>\n",
       "      <td>2,223</td>\n",
       "      <td>NaN</td>\n",
       "      <td>SACS</td>\n",
       "    </tr>\n",
       "  </tbody>\n",
       "</table>\n",
       "</div>"
      ],
      "text/plain": [
       "                            name         state                       location  \\\n",
       "1                Yale University   Connecticut                      New Haven   \n",
       "2     University of Pennsylvania  Pennsylvania                   Philadelphia   \n",
       "3               Moravian College  Pennsylvania  Bethlehem(Northampton County)   \n",
       "4           Princeton University    New Jersey                      Princeton   \n",
       "5  Washington and Lee University      Virginia                      Lexington   \n",
       "\n",
       "   control  for_profit  religious_controlled religious_orentation  \\\n",
       "1  Private           0                     0            Christian   \n",
       "2  Private           0                     0            Christian   \n",
       "3  Private           0                     0             Moravian   \n",
       "4  Private           0                     0            Christian   \n",
       "5  Private           0                     0            Christian   \n",
       "\n",
       "             degree_type focus founded_in closed_merged_in done closed_reason  \\\n",
       "1    Doctoral University   NaN 1701-01-01              NaN  AJB           NaN   \n",
       "2  Baccalaureate College   NaN 1740-01-01              NaN  AJB           NaN   \n",
       "3  Baccalaureate College   NaN 1742-01-01              NaN  AJB           NaN   \n",
       "4    Doctoral University   NaN 1746-01-01              NaN  AJB           NaN   \n",
       "5  Baccalaureate College   NaN 1749-01-01              NaN  AJB           NaN   \n",
       "\n",
       "  enrollment historically_black accreditation  \n",
       "1     12,458                NaN           NaN  \n",
       "2     25,007                NaN           NaN  \n",
       "3      2,032                NaN           NaN  \n",
       "4      8,010                NaN         MSCHE  \n",
       "5      2,223                NaN          SACS  "
      ]
     },
     "execution_count": 4,
     "metadata": {},
     "output_type": "execute_result"
    }
   ],
   "source": [
    "# private_colleges = colleges[colleges['control'] == \"Private\"]\n",
    "# private_colleges.head(25)\n",
    "# non_profit_colleges = private_colleges[private_colleges['for_profit'] == 0]\n",
    "# non_profit_colleges.head(25)\n",
    "# secular_non_profit_colleges = non_profit_colleges[non_profit_colleges['religious_controlled'] == 0] \n",
    "\n",
    "secular_non_profit_colleges = colleges[\n",
    "    (colleges['control'] == \"Private\") &\n",
    "    (colleges['for_profit'] == 0) &\n",
    "    (colleges['religious_controlled'] == 0) \n",
    "]\n",
    "\n",
    "secular_non_profit_colleges.head(5)\n",
    "# secular_non_profit_colleges.dtypes"
   ]
  },
  {
   "cell_type": "code",
   "execution_count": 5,
   "metadata": {},
   "outputs": [
    {
     "data": {
      "text/html": [
       "<div>\n",
       "<style scoped>\n",
       "    .dataframe tbody tr th:only-of-type {\n",
       "        vertical-align: middle;\n",
       "    }\n",
       "\n",
       "    .dataframe tbody tr th {\n",
       "        vertical-align: top;\n",
       "    }\n",
       "\n",
       "    .dataframe thead th {\n",
       "        text-align: right;\n",
       "    }\n",
       "</style>\n",
       "<table border=\"1\" class=\"dataframe\">\n",
       "  <thead>\n",
       "    <tr style=\"text-align: right;\">\n",
       "      <th></th>\n",
       "      <th>name</th>\n",
       "      <th>state</th>\n",
       "      <th>location</th>\n",
       "      <th>control</th>\n",
       "      <th>for_profit</th>\n",
       "      <th>religious_controlled</th>\n",
       "      <th>religious_orentation</th>\n",
       "      <th>degree_type</th>\n",
       "      <th>focus</th>\n",
       "      <th>founded_in</th>\n",
       "      <th>closed_merged_in</th>\n",
       "      <th>done</th>\n",
       "      <th>closed_reason</th>\n",
       "      <th>enrollment</th>\n",
       "      <th>historically_black</th>\n",
       "      <th>accreditation</th>\n",
       "    </tr>\n",
       "  </thead>\n",
       "  <tbody>\n",
       "    <tr>\n",
       "      <th>1</th>\n",
       "      <td>Yale University</td>\n",
       "      <td>Connecticut</td>\n",
       "      <td>New Haven</td>\n",
       "      <td>Private</td>\n",
       "      <td>0</td>\n",
       "      <td>0</td>\n",
       "      <td>Christian</td>\n",
       "      <td>Doctoral University</td>\n",
       "      <td>NaN</td>\n",
       "      <td>1701-01-01</td>\n",
       "      <td>NaN</td>\n",
       "      <td>AJB</td>\n",
       "      <td>NaN</td>\n",
       "      <td>12,458</td>\n",
       "      <td>NaN</td>\n",
       "      <td>NaN</td>\n",
       "    </tr>\n",
       "    <tr>\n",
       "      <th>2</th>\n",
       "      <td>University of Pennsylvania</td>\n",
       "      <td>Pennsylvania</td>\n",
       "      <td>Philadelphia</td>\n",
       "      <td>Private</td>\n",
       "      <td>0</td>\n",
       "      <td>0</td>\n",
       "      <td>Christian</td>\n",
       "      <td>Baccalaureate College</td>\n",
       "      <td>NaN</td>\n",
       "      <td>1740-01-01</td>\n",
       "      <td>NaN</td>\n",
       "      <td>AJB</td>\n",
       "      <td>NaN</td>\n",
       "      <td>25,007</td>\n",
       "      <td>NaN</td>\n",
       "      <td>NaN</td>\n",
       "    </tr>\n",
       "    <tr>\n",
       "      <th>3</th>\n",
       "      <td>Moravian College</td>\n",
       "      <td>Pennsylvania</td>\n",
       "      <td>Bethlehem(Northampton County)</td>\n",
       "      <td>Private</td>\n",
       "      <td>0</td>\n",
       "      <td>0</td>\n",
       "      <td>Moravian</td>\n",
       "      <td>Baccalaureate College</td>\n",
       "      <td>NaN</td>\n",
       "      <td>1742-01-01</td>\n",
       "      <td>NaN</td>\n",
       "      <td>AJB</td>\n",
       "      <td>NaN</td>\n",
       "      <td>2,032</td>\n",
       "      <td>NaN</td>\n",
       "      <td>NaN</td>\n",
       "    </tr>\n",
       "    <tr>\n",
       "      <th>4</th>\n",
       "      <td>Princeton University</td>\n",
       "      <td>New Jersey</td>\n",
       "      <td>Princeton</td>\n",
       "      <td>Private</td>\n",
       "      <td>0</td>\n",
       "      <td>0</td>\n",
       "      <td>Christian</td>\n",
       "      <td>Doctoral University</td>\n",
       "      <td>NaN</td>\n",
       "      <td>1746-01-01</td>\n",
       "      <td>NaN</td>\n",
       "      <td>AJB</td>\n",
       "      <td>NaN</td>\n",
       "      <td>8,010</td>\n",
       "      <td>NaN</td>\n",
       "      <td>MSCHE</td>\n",
       "    </tr>\n",
       "    <tr>\n",
       "      <th>5</th>\n",
       "      <td>Washington and Lee University</td>\n",
       "      <td>Virginia</td>\n",
       "      <td>Lexington</td>\n",
       "      <td>Private</td>\n",
       "      <td>0</td>\n",
       "      <td>0</td>\n",
       "      <td>Christian</td>\n",
       "      <td>Baccalaureate College</td>\n",
       "      <td>NaN</td>\n",
       "      <td>1749-01-01</td>\n",
       "      <td>NaN</td>\n",
       "      <td>AJB</td>\n",
       "      <td>NaN</td>\n",
       "      <td>2,223</td>\n",
       "      <td>NaN</td>\n",
       "      <td>SACS</td>\n",
       "    </tr>\n",
       "  </tbody>\n",
       "</table>\n",
       "</div>"
      ],
      "text/plain": [
       "                            name         state                       location  \\\n",
       "1                Yale University   Connecticut                      New Haven   \n",
       "2     University of Pennsylvania  Pennsylvania                   Philadelphia   \n",
       "3               Moravian College  Pennsylvania  Bethlehem(Northampton County)   \n",
       "4           Princeton University    New Jersey                      Princeton   \n",
       "5  Washington and Lee University      Virginia                      Lexington   \n",
       "\n",
       "   control  for_profit  religious_controlled religious_orentation  \\\n",
       "1  Private           0                     0            Christian   \n",
       "2  Private           0                     0            Christian   \n",
       "3  Private           0                     0             Moravian   \n",
       "4  Private           0                     0            Christian   \n",
       "5  Private           0                     0            Christian   \n",
       "\n",
       "             degree_type focus founded_in closed_merged_in done closed_reason  \\\n",
       "1    Doctoral University   NaN 1701-01-01              NaN  AJB           NaN   \n",
       "2  Baccalaureate College   NaN 1740-01-01              NaN  AJB           NaN   \n",
       "3  Baccalaureate College   NaN 1742-01-01              NaN  AJB           NaN   \n",
       "4    Doctoral University   NaN 1746-01-01              NaN  AJB           NaN   \n",
       "5  Baccalaureate College   NaN 1749-01-01              NaN  AJB           NaN   \n",
       "\n",
       "  enrollment historically_black accreditation  \n",
       "1     12,458                NaN           NaN  \n",
       "2     25,007                NaN           NaN  \n",
       "3      2,032                NaN           NaN  \n",
       "4      8,010                NaN         MSCHE  \n",
       "5      2,223                NaN          SACS  "
      ]
     },
     "execution_count": 5,
     "metadata": {},
     "output_type": "execute_result"
    }
   ],
   "source": [
    "# Cast new dataframe with null values expunged for `founded_in` feature\n",
    "try:\n",
    "    snp_colleges_non_null = secular_non_profit_colleges.copy()\n",
    "    snp_colleges_non_null[\"founded_in\"].dropna(inplace=True)\n",
    "    ARG_NON_NULL_FOUNDRY = snp_colleges_non_null[\"founded_in\"].notnull()\n",
    "    snp_colleges_non_null = snp_colleges_non_null[ARG_NON_NULL_FOUNDRY]\n",
    "except:\n",
    "    print(\"`Founded_In` null values are already dropped.\")\n",
    "    \n",
    "snp_colleges_non_null.head()"
   ]
  },
  {
   "cell_type": "code",
   "execution_count": 6,
   "metadata": {},
   "outputs": [
    {
     "data": {
      "text/html": [
       "<div>\n",
       "<style scoped>\n",
       "    .dataframe tbody tr th:only-of-type {\n",
       "        vertical-align: middle;\n",
       "    }\n",
       "\n",
       "    .dataframe tbody tr th {\n",
       "        vertical-align: top;\n",
       "    }\n",
       "\n",
       "    .dataframe thead th {\n",
       "        text-align: right;\n",
       "    }\n",
       "</style>\n",
       "<table border=\"1\" class=\"dataframe\">\n",
       "  <thead>\n",
       "    <tr style=\"text-align: right;\">\n",
       "      <th></th>\n",
       "      <th>Year</th>\n",
       "      <th>Count</th>\n",
       "    </tr>\n",
       "  </thead>\n",
       "  <tbody>\n",
       "    <tr>\n",
       "      <th>0</th>\n",
       "      <td>1700</td>\n",
       "      <td>1</td>\n",
       "    </tr>\n",
       "    <tr>\n",
       "      <th>1</th>\n",
       "      <td>1740</td>\n",
       "      <td>4</td>\n",
       "    </tr>\n",
       "    <tr>\n",
       "      <th>2</th>\n",
       "      <td>1750</td>\n",
       "      <td>1</td>\n",
       "    </tr>\n",
       "    <tr>\n",
       "      <th>3</th>\n",
       "      <td>1760</td>\n",
       "      <td>2</td>\n",
       "    </tr>\n",
       "    <tr>\n",
       "      <th>4</th>\n",
       "      <td>1770</td>\n",
       "      <td>3</td>\n",
       "    </tr>\n",
       "    <tr>\n",
       "      <th>5</th>\n",
       "      <td>1780</td>\n",
       "      <td>7</td>\n",
       "    </tr>\n",
       "    <tr>\n",
       "      <th>6</th>\n",
       "      <td>1790</td>\n",
       "      <td>4</td>\n",
       "    </tr>\n",
       "    <tr>\n",
       "      <th>7</th>\n",
       "      <td>1800</td>\n",
       "      <td>2</td>\n",
       "    </tr>\n",
       "    <tr>\n",
       "      <th>8</th>\n",
       "      <td>1810</td>\n",
       "      <td>2</td>\n",
       "    </tr>\n",
       "    <tr>\n",
       "      <th>9</th>\n",
       "      <td>1820</td>\n",
       "      <td>9</td>\n",
       "    </tr>\n",
       "    <tr>\n",
       "      <th>10</th>\n",
       "      <td>1830</td>\n",
       "      <td>8</td>\n",
       "    </tr>\n",
       "    <tr>\n",
       "      <th>11</th>\n",
       "      <td>1840</td>\n",
       "      <td>11</td>\n",
       "    </tr>\n",
       "    <tr>\n",
       "      <th>12</th>\n",
       "      <td>1850</td>\n",
       "      <td>21</td>\n",
       "    </tr>\n",
       "    <tr>\n",
       "      <th>13</th>\n",
       "      <td>1860</td>\n",
       "      <td>16</td>\n",
       "    </tr>\n",
       "    <tr>\n",
       "      <th>14</th>\n",
       "      <td>1870</td>\n",
       "      <td>17</td>\n",
       "    </tr>\n",
       "    <tr>\n",
       "      <th>15</th>\n",
       "      <td>1880</td>\n",
       "      <td>27</td>\n",
       "    </tr>\n",
       "    <tr>\n",
       "      <th>16</th>\n",
       "      <td>1890</td>\n",
       "      <td>23</td>\n",
       "    </tr>\n",
       "    <tr>\n",
       "      <th>17</th>\n",
       "      <td>1900</td>\n",
       "      <td>13</td>\n",
       "    </tr>\n",
       "    <tr>\n",
       "      <th>18</th>\n",
       "      <td>1910</td>\n",
       "      <td>20</td>\n",
       "    </tr>\n",
       "    <tr>\n",
       "      <th>19</th>\n",
       "      <td>1920</td>\n",
       "      <td>26</td>\n",
       "    </tr>\n",
       "    <tr>\n",
       "      <th>20</th>\n",
       "      <td>1930</td>\n",
       "      <td>14</td>\n",
       "    </tr>\n",
       "    <tr>\n",
       "      <th>21</th>\n",
       "      <td>1940</td>\n",
       "      <td>22</td>\n",
       "    </tr>\n",
       "    <tr>\n",
       "      <th>22</th>\n",
       "      <td>1950</td>\n",
       "      <td>23</td>\n",
       "    </tr>\n",
       "    <tr>\n",
       "      <th>23</th>\n",
       "      <td>1960</td>\n",
       "      <td>37</td>\n",
       "    </tr>\n",
       "    <tr>\n",
       "      <th>24</th>\n",
       "      <td>1970</td>\n",
       "      <td>5</td>\n",
       "    </tr>\n",
       "    <tr>\n",
       "      <th>25</th>\n",
       "      <td>1980</td>\n",
       "      <td>12</td>\n",
       "    </tr>\n",
       "    <tr>\n",
       "      <th>26</th>\n",
       "      <td>1990</td>\n",
       "      <td>13</td>\n",
       "    </tr>\n",
       "    <tr>\n",
       "      <th>27</th>\n",
       "      <td>2000</td>\n",
       "      <td>2</td>\n",
       "    </tr>\n",
       "  </tbody>\n",
       "</table>\n",
       "</div>"
      ],
      "text/plain": [
       "    Year  Count\n",
       "0   1700      1\n",
       "1   1740      4\n",
       "2   1750      1\n",
       "3   1760      2\n",
       "4   1770      3\n",
       "5   1780      7\n",
       "6   1790      4\n",
       "7   1800      2\n",
       "8   1810      2\n",
       "9   1820      9\n",
       "10  1830      8\n",
       "11  1840     11\n",
       "12  1850     21\n",
       "13  1860     16\n",
       "14  1870     17\n",
       "15  1880     27\n",
       "16  1890     23\n",
       "17  1900     13\n",
       "18  1910     20\n",
       "19  1920     26\n",
       "20  1930     14\n",
       "21  1940     22\n",
       "22  1950     23\n",
       "23  1960     37\n",
       "24  1970      5\n",
       "25  1980     12\n",
       "26  1990     13\n",
       "27  2000      2"
      ]
     },
     "execution_count": 6,
     "metadata": {},
     "output_type": "execute_result"
    }
   ],
   "source": [
    "snp_colleges_nn_time_series = (\n",
    "        snp_colleges_non_null[\"founded_in\"].value_counts()\n",
    "        .rename_axis(\"Year\")\n",
    "        .reset_index(name=\"Count\")\n",
    ")\n",
    "\n",
    "# Get Count Sums Per Decade\n",
    "snp_colleges_nn_time_series = (\n",
    "        snp_colleges_nn_time_series.groupby((snp_colleges_nn_time_series[\"Year\"].dt.year // 10) * 10)\n",
    "        .sum()\n",
    "        .reset_index()\n",
    ")\n",
    "\n",
    "snp_colleges_nn_time_series"
   ]
  },
  {
   "cell_type": "code",
   "execution_count": 36,
   "metadata": {},
   "outputs": [],
   "source": [
    "MIN_YEAR, MAX_YEAR = 1690, 2030"
   ]
  },
  {
   "cell_type": "code",
   "execution_count": 80,
   "metadata": {},
   "outputs": [
    {
     "data": {
      "text/plain": [
       "[]"
      ]
     },
     "execution_count": 80,
     "metadata": {},
     "output_type": "execute_result"
    },
    {
     "data": {
      "image/png": "[encoded data removed]",
      "text/plain": [
       "<Figure size 1080x720 with 1 Axes>"
      ]
     },
     "metadata": {
      "needs_background": "light"
     },
     "output_type": "display_data"
    }
   ],
   "source": [
    "# Scatterplot\n",
    "plt.figure(figsize=(15, 10))\n",
    "plt.scatter(x=snp_colleges_nn_time_series[\"Year\"],\n",
    "            y=snp_colleges_nn_time_series[\"Count\"])\n",
    "\n",
    "plt.xticks(np.arange(MIN_YEAR, MAX_YEAR, step=10), rotation=90)\n",
    "plt.plot()"
   ]
  },
  {
   "cell_type": "code",
   "execution_count": 82,
   "metadata": {},
   "outputs": [
    {
     "data": {
      "text/plain": [
       "[]"
      ]
     },
     "execution_count": 82,
     "metadata": {},
     "output_type": "execute_result"
    },
    {
     "data": {
      "image/png": "[encoded data removed]",
      "text/plain": [
       "<Figure size 1080x720 with 1 Axes>"
      ]
     },
     "metadata": {
      "needs_background": "light"
     },
     "output_type": "display_data"
    }
   ],
   "source": [
    "# Barplot\n",
    "plt.figure(figsize=(15, 10))\n",
    "plt.xticks(np.arange(MIN_YEAR, MAX_YEAR, step=10), rotation=90)\n",
    "plt.bar(x=snp_colleges_nn_time_series[\"Year\"],\n",
    "        height=snp_colleges_nn_time_series[\"Count\"],\n",
    "        width=5.)\n",
    "plt.plot()"
   ]
  },
  {
   "cell_type": "code",
   "execution_count": 19,
   "metadata": {},
   "outputs": [
    {
     "data": {
      "text/plain": [
       "1       1701.0\n",
       "2       1740.0\n",
       "3       1742.0\n",
       "4       1746.0\n",
       "5       1749.0\n",
       "         ...  \n",
       "2933    2008.0\n",
       "2942    2009.0\n",
       "2975       NaN\n",
       "2976       NaN\n",
       "2977       NaN\n",
       "Name: founded_in, Length: 348, dtype: float64"
      ]
     },
     "execution_count": 19,
     "metadata": {},
     "output_type": "execute_result"
    }
   ],
   "source": [
    "secular_non_profit_colleges[\"founded_in\"].dt.year"
   ]
  },
  {
   "cell_type": "code",
   "execution_count": 6,
   "metadata": {},
   "outputs": [
    {
     "data": {
      "image/png": "[encoded data removed]",
      "text/plain": [
       "<Figure size 432x288 with 1 Axes>"
      ]
     },
     "metadata": {
      "needs_background": "light"
     },
     "output_type": "display_data"
    }
   ],
   "source": [
    "# Line chart of colleges founded by year\n",
    "colleges_decades = colleges.groupby((colleges.founded_in.dt.year//10)*10).sum()\n",
    "# print(decades)\n",
    "colleges_decades.plot(kind='bar');\n",
    "plt.xlabel(\"Decade\")\n",
    "plt.ylabel(\"# New Colleges\")\n",
    "plt.title(\"New Colleges in U.S. by Decade\");"
   ]
  },
  {
   "cell_type": "code",
   "execution_count": 8,
   "metadata": {},
   "outputs": [
    {
     "name": "stdout",
     "output_type": "stream",
     "text": [
      "            for_profit  religious_controlled\n",
      "founded_in                                  \n",
      "1700.0               0                     0\n",
      "1740.0               0                     0\n",
      "1750.0               0                     0\n",
      "1760.0               0                     0\n",
      "1770.0               0                     0\n",
      "1780.0               0                     0\n",
      "1790.0               0                     0\n",
      "1800.0               0                     0\n",
      "1810.0               0                     0\n",
      "1820.0               0                     0\n",
      "1830.0               0                     0\n",
      "1840.0               0                     0\n",
      "1850.0               0                     0\n",
      "1860.0               0                     0\n",
      "1870.0               0                     0\n",
      "1880.0               0                     0\n",
      "1890.0               0                     0\n",
      "1900.0               0                     0\n",
      "1910.0               0                     0\n",
      "1920.0               0                     0\n",
      "1930.0               0                     0\n",
      "1940.0               0                     0\n",
      "1950.0               0                     0\n",
      "1960.0               0                     0\n",
      "1970.0               0                     0\n",
      "1980.0               0                     0\n",
      "1990.0               0                     0\n",
      "2000.0               0                     0\n"
     ]
    },
    {
     "data": {
      "image/png": "[encoded data removed]",
      "text/plain": [
       "<Figure size 432x288 with 1 Axes>"
      ]
     },
     "metadata": {
      "needs_background": "light"
     },
     "output_type": "display_data"
    }
   ],
   "source": [
    "# Line chart of colleges founded by year\n",
    "secular_non_profit_colleges_decades = secular_non_profit_colleges.groupby((secular_non_profit_colleges.founded_in.dt.year//10)*10).sum()\n",
    "print(secular_non_profit_colleges_decades)\n",
    "secular_non_profit_colleges_decades.plot(kind='bar');\n",
    "plt.xlabel(\"Decade\")\n",
    "plt.ylabel(\"# New Colleges\")\n",
    "plt.title(\"New Colleges in U.S. by Decade\");"
   ]
  },
  {
   "cell_type": "code",
   "execution_count": null,
   "metadata": {},
   "outputs": [],
   "source": []
  },
  {
   "cell_type": "markdown",
   "metadata": {},
   "source": [
    "### Below are the plots I'm working on,  haven't changed anything above //Johanna\n",
    "1. All colleges founded by decade bar chart\n",
    "2. Nonprofit, secular, bachelor’s degree granting colleges founded by decade bar chart\n",
    "3. Comparison for profit, non profit colleges founded by decade.\n",
    "4. Comparison religiously controlled, secular colleges founded by decade."
   ]
  },
  {
   "cell_type": "markdown",
   "metadata": {},
   "source": [
    "#### First, some processing and general setups\n",
    "Questions: \n",
    "- Ok with empty bars for decades without any data? For example, 1710, 1720, 1730.\n",
    "- Font and figure sizes \n",
    "- Colors of bars\n",
    "\n",
    "Colleges with NaT in founded_in column: \n",
    "- Mount Liberty College (2019?)\n",
    "- New U Univeresity (2019?) \n",
    "- University of Beverly Hills (still exist?)\n",
    "- San Ignacio University (Doral) (?)\n",
    "- Valley Forge Christian College (1939?)\n",
    "- Washington Baptist University (1982?)"
   ]
  },
  {
   "cell_type": "code",
   "execution_count": 155,
   "metadata": {},
   "outputs": [],
   "source": [
    "# 6 colleges have NaT in founded_in column, remove these for now - could be added manually though\n",
    "colleges = colleges[~colleges[\"founded_in\"].isnull()]"
   ]
  },
  {
   "cell_type": "code",
   "execution_count": 156,
   "metadata": {},
   "outputs": [
    {
     "name": "stdout",
     "output_type": "stream",
     "text": [
      "Decades in data: [1690 1700 1740 1750 1760 1770 1780 1790 1800 1810 1820 1830 1840 1850\n",
      " 1860 1870 1880 1890 1900 1910 1920 1930 1940 1950 1960 1970 1980 1990\n",
      " 2000 2010]\n",
      "Decade span: 1690 - 2010\n"
     ]
    },
    {
     "data": {
      "text/html": [
       "<div>\n",
       "<style scoped>\n",
       "    .dataframe tbody tr th:only-of-type {\n",
       "        vertical-align: middle;\n",
       "    }\n",
       "\n",
       "    .dataframe tbody tr th {\n",
       "        vertical-align: top;\n",
       "    }\n",
       "\n",
       "    .dataframe thead th {\n",
       "        text-align: right;\n",
       "    }\n",
       "</style>\n",
       "<table border=\"1\" class=\"dataframe\">\n",
       "  <thead>\n",
       "    <tr style=\"text-align: right;\">\n",
       "      <th></th>\n",
       "      <th>name</th>\n",
       "      <th>state</th>\n",
       "      <th>location</th>\n",
       "      <th>control</th>\n",
       "      <th>for_profit</th>\n",
       "      <th>religious_controlled</th>\n",
       "      <th>religious_orentation</th>\n",
       "      <th>degree_type</th>\n",
       "      <th>focus</th>\n",
       "      <th>founded_in</th>\n",
       "      <th>closed_merged_in</th>\n",
       "      <th>done</th>\n",
       "      <th>closed_reason</th>\n",
       "      <th>enrollment</th>\n",
       "      <th>historically_black</th>\n",
       "      <th>accreditation</th>\n",
       "      <th>decade</th>\n",
       "    </tr>\n",
       "  </thead>\n",
       "  <tbody>\n",
       "    <tr>\n",
       "      <th>0</th>\n",
       "      <td>College of William and Mary</td>\n",
       "      <td>Virginia</td>\n",
       "      <td>Williamsburg</td>\n",
       "      <td>Public</td>\n",
       "      <td>0</td>\n",
       "      <td>0</td>\n",
       "      <td>NaN</td>\n",
       "      <td>Doctoral University</td>\n",
       "      <td>NaN</td>\n",
       "      <td>1693-01-01</td>\n",
       "      <td>NaN</td>\n",
       "      <td>NaN</td>\n",
       "      <td>NaN</td>\n",
       "      <td>8,817</td>\n",
       "      <td>NaN</td>\n",
       "      <td>SACS</td>\n",
       "      <td>1690</td>\n",
       "    </tr>\n",
       "    <tr>\n",
       "      <th>1</th>\n",
       "      <td>Yale University</td>\n",
       "      <td>Connecticut</td>\n",
       "      <td>New Haven</td>\n",
       "      <td>Private</td>\n",
       "      <td>0</td>\n",
       "      <td>0</td>\n",
       "      <td>Christian</td>\n",
       "      <td>Doctoral University</td>\n",
       "      <td>NaN</td>\n",
       "      <td>1701-01-01</td>\n",
       "      <td>NaN</td>\n",
       "      <td>AJB</td>\n",
       "      <td>NaN</td>\n",
       "      <td>12,458</td>\n",
       "      <td>NaN</td>\n",
       "      <td>NaN</td>\n",
       "      <td>1700</td>\n",
       "    </tr>\n",
       "    <tr>\n",
       "      <th>2</th>\n",
       "      <td>University of Pennsylvania</td>\n",
       "      <td>Pennsylvania</td>\n",
       "      <td>Philadelphia</td>\n",
       "      <td>Private</td>\n",
       "      <td>0</td>\n",
       "      <td>0</td>\n",
       "      <td>Christian</td>\n",
       "      <td>Baccalaureate College</td>\n",
       "      <td>NaN</td>\n",
       "      <td>1740-01-01</td>\n",
       "      <td>NaN</td>\n",
       "      <td>AJB</td>\n",
       "      <td>NaN</td>\n",
       "      <td>25,007</td>\n",
       "      <td>NaN</td>\n",
       "      <td>NaN</td>\n",
       "      <td>1740</td>\n",
       "    </tr>\n",
       "    <tr>\n",
       "      <th>3</th>\n",
       "      <td>Moravian College</td>\n",
       "      <td>Pennsylvania</td>\n",
       "      <td>Bethlehem(Northampton County)</td>\n",
       "      <td>Private</td>\n",
       "      <td>0</td>\n",
       "      <td>0</td>\n",
       "      <td>Moravian</td>\n",
       "      <td>Baccalaureate College</td>\n",
       "      <td>NaN</td>\n",
       "      <td>1742-01-01</td>\n",
       "      <td>NaN</td>\n",
       "      <td>AJB</td>\n",
       "      <td>NaN</td>\n",
       "      <td>2,032</td>\n",
       "      <td>NaN</td>\n",
       "      <td>NaN</td>\n",
       "      <td>1740</td>\n",
       "    </tr>\n",
       "    <tr>\n",
       "      <th>4</th>\n",
       "      <td>Princeton University</td>\n",
       "      <td>New Jersey</td>\n",
       "      <td>Princeton</td>\n",
       "      <td>Private</td>\n",
       "      <td>0</td>\n",
       "      <td>0</td>\n",
       "      <td>Christian</td>\n",
       "      <td>Doctoral University</td>\n",
       "      <td>NaN</td>\n",
       "      <td>1746-01-01</td>\n",
       "      <td>NaN</td>\n",
       "      <td>AJB</td>\n",
       "      <td>NaN</td>\n",
       "      <td>8,010</td>\n",
       "      <td>NaN</td>\n",
       "      <td>MSCHE</td>\n",
       "      <td>1740</td>\n",
       "    </tr>\n",
       "  </tbody>\n",
       "</table>\n",
       "</div>"
      ],
      "text/plain": [
       "                          name         state                       location  \\\n",
       "0  College of William and Mary      Virginia                   Williamsburg   \n",
       "1              Yale University   Connecticut                      New Haven   \n",
       "2   University of Pennsylvania  Pennsylvania                   Philadelphia   \n",
       "3             Moravian College  Pennsylvania  Bethlehem(Northampton County)   \n",
       "4         Princeton University    New Jersey                      Princeton   \n",
       "\n",
       "   control  for_profit  religious_controlled religious_orentation  \\\n",
       "0   Public           0                     0                  NaN   \n",
       "1  Private           0                     0            Christian   \n",
       "2  Private           0                     0            Christian   \n",
       "3  Private           0                     0             Moravian   \n",
       "4  Private           0                     0            Christian   \n",
       "\n",
       "             degree_type focus founded_in closed_merged_in done closed_reason  \\\n",
       "0    Doctoral University   NaN 1693-01-01              NaN  NaN           NaN   \n",
       "1    Doctoral University   NaN 1701-01-01              NaN  AJB           NaN   \n",
       "2  Baccalaureate College   NaN 1740-01-01              NaN  AJB           NaN   \n",
       "3  Baccalaureate College   NaN 1742-01-01              NaN  AJB           NaN   \n",
       "4    Doctoral University   NaN 1746-01-01              NaN  AJB           NaN   \n",
       "\n",
       "  enrollment historically_black accreditation  decade  \n",
       "0      8,817                NaN          SACS    1690  \n",
       "1     12,458                NaN           NaN    1700  \n",
       "2     25,007                NaN           NaN    1740  \n",
       "3      2,032                NaN           NaN    1740  \n",
       "4      8,010                NaN         MSCHE    1740  "
      ]
     },
     "execution_count": 156,
     "metadata": {},
     "output_type": "execute_result"
    }
   ],
   "source": [
    "# Make a decade column and print some checks\n",
    "colleges[\"decade\"] = np.floor(colleges[\"founded_in\"].dt.year/10)*10\n",
    "colleges[\"decade\"] = colleges[\"decade\"].astype(int)\n",
    "n_decades = len(colleges[\"decade\"].unique())\n",
    "min_decade = np.min(colleges[\"decade\"].unique())\n",
    "max_decade = np.max(colleges[\"decade\"].unique())\n",
    "print(f\"Decades in data: {colleges.decade.unique()}\")\n",
    "print(f\"Decade span: {min_decade} - {max_decade}\")\n",
    "colleges.head(5)"
   ]
  },
  {
   "cell_type": "code",
   "execution_count": 157,
   "metadata": {},
   "outputs": [],
   "source": [
    "# General plotting setups\n",
    "fig_size = (15, 10)\n",
    "x_range = np.arange(min_decade, max_decade + 10, step=10)\n",
    "bin_range = (min_decade-5, max_decade + 5)"
   ]
  },
  {
   "cell_type": "markdown",
   "metadata": {},
   "source": [
    "#### 1, All colleges founded by decade bar chart"
   ]
  },
  {
   "cell_type": "code",
   "execution_count": 133,
   "metadata": {},
   "outputs": [
    {
     "data": {
      "image/png": "[encoded data removed]",
      "text/plain": [
       "<Figure size 1080x720 with 1 Axes>"
      ]
     },
     "metadata": {
      "needs_background": "light"
     },
     "output_type": "display_data"
    }
   ],
   "source": [
    "# matplotlib barplot - obs decades without data are missing in this plot\n",
    "plt.figure(figsize=fig_size)\n",
    "colleges.groupby(colleges[\"decade\"])[\"name\"].count().plot(kind='bar')\n",
    "# plt.ylabel(\"Count\")\n",
    "plt.title(\"Number of colleges founded by decade\");"
   ]
  },
  {
   "cell_type": "code",
   "execution_count": 161,
   "metadata": {},
   "outputs": [
    {
     "data": {
      "image/png": "[encoded data removed]",
      "text/plain": [
       "<Figure size 1080x720 with 1 Axes>"
      ]
     },
     "metadata": {
      "needs_background": "light"
     },
     "output_type": "display_data"
    }
   ],
   "source": [
    "# seaborn histogram\n",
    "plt.figure(figsize=fig_size)\n",
    "plt.xticks(x_range, rotation=45)\n",
    "sns.histplot(data=colleges, x=\"decade\", binwidth=10, binrange=bin_range)\n",
    "plt.title(\"Number of colleges founded by decade\");\n",
    "# plt.savefig(\"plots/plot_1.png\", facecolor='white')  # ignore facecolor for a transparent background"
   ]
  },
  {
   "cell_type": "code",
   "execution_count": 130,
   "metadata": {},
   "outputs": [
    {
     "data": {
      "image/png": "[encoded data removed]",
      "text/plain": [
       "<Figure size 1080x720 with 1 Axes>"
      ]
     },
     "metadata": {
      "needs_background": "light"
     },
     "output_type": "display_data"
    }
   ],
   "source": [
    "# seaborn cumulative histogram (just for fun)\n",
    "plt.figure(figsize=fig_size)\n",
    "plt.xticks(x_range, rotation=45)\n",
    "sns.histplot(data=colleges, x=\"decade\", binwidth=10, binrange=bin_range, cumulative=True)\n",
    "plt.title(\"Cumulative number of colleges founded by decade\");"
   ]
  },
  {
   "cell_type": "markdown",
   "metadata": {},
   "source": [
    "#### 2, Nonprofit, secular, bachelor’s degree granting colleges founded by decade bar chart"
   ]
  },
  {
   "cell_type": "code",
   "execution_count": 158,
   "metadata": {},
   "outputs": [
    {
     "data": {
      "text/html": [
       "<div>\n",
       "<style scoped>\n",
       "    .dataframe tbody tr th:only-of-type {\n",
       "        vertical-align: middle;\n",
       "    }\n",
       "\n",
       "    .dataframe tbody tr th {\n",
       "        vertical-align: top;\n",
       "    }\n",
       "\n",
       "    .dataframe thead th {\n",
       "        text-align: right;\n",
       "    }\n",
       "</style>\n",
       "<table border=\"1\" class=\"dataframe\">\n",
       "  <thead>\n",
       "    <tr style=\"text-align: right;\">\n",
       "      <th></th>\n",
       "      <th>name</th>\n",
       "      <th>state</th>\n",
       "      <th>location</th>\n",
       "      <th>control</th>\n",
       "      <th>for_profit</th>\n",
       "      <th>religious_controlled</th>\n",
       "      <th>religious_orentation</th>\n",
       "      <th>degree_type</th>\n",
       "      <th>focus</th>\n",
       "      <th>founded_in</th>\n",
       "      <th>closed_merged_in</th>\n",
       "      <th>done</th>\n",
       "      <th>closed_reason</th>\n",
       "      <th>enrollment</th>\n",
       "      <th>historically_black</th>\n",
       "      <th>accreditation</th>\n",
       "      <th>decade</th>\n",
       "    </tr>\n",
       "  </thead>\n",
       "  <tbody>\n",
       "    <tr>\n",
       "      <th>1</th>\n",
       "      <td>Yale University</td>\n",
       "      <td>Connecticut</td>\n",
       "      <td>New Haven</td>\n",
       "      <td>Private</td>\n",
       "      <td>0</td>\n",
       "      <td>0</td>\n",
       "      <td>Christian</td>\n",
       "      <td>Doctoral University</td>\n",
       "      <td>NaN</td>\n",
       "      <td>1701-01-01</td>\n",
       "      <td>NaN</td>\n",
       "      <td>AJB</td>\n",
       "      <td>NaN</td>\n",
       "      <td>12,458</td>\n",
       "      <td>NaN</td>\n",
       "      <td>NaN</td>\n",
       "      <td>1700</td>\n",
       "    </tr>\n",
       "    <tr>\n",
       "      <th>2</th>\n",
       "      <td>University of Pennsylvania</td>\n",
       "      <td>Pennsylvania</td>\n",
       "      <td>Philadelphia</td>\n",
       "      <td>Private</td>\n",
       "      <td>0</td>\n",
       "      <td>0</td>\n",
       "      <td>Christian</td>\n",
       "      <td>Baccalaureate College</td>\n",
       "      <td>NaN</td>\n",
       "      <td>1740-01-01</td>\n",
       "      <td>NaN</td>\n",
       "      <td>AJB</td>\n",
       "      <td>NaN</td>\n",
       "      <td>25,007</td>\n",
       "      <td>NaN</td>\n",
       "      <td>NaN</td>\n",
       "      <td>1740</td>\n",
       "    </tr>\n",
       "    <tr>\n",
       "      <th>3</th>\n",
       "      <td>Moravian College</td>\n",
       "      <td>Pennsylvania</td>\n",
       "      <td>Bethlehem(Northampton County)</td>\n",
       "      <td>Private</td>\n",
       "      <td>0</td>\n",
       "      <td>0</td>\n",
       "      <td>Moravian</td>\n",
       "      <td>Baccalaureate College</td>\n",
       "      <td>NaN</td>\n",
       "      <td>1742-01-01</td>\n",
       "      <td>NaN</td>\n",
       "      <td>AJB</td>\n",
       "      <td>NaN</td>\n",
       "      <td>2,032</td>\n",
       "      <td>NaN</td>\n",
       "      <td>NaN</td>\n",
       "      <td>1740</td>\n",
       "    </tr>\n",
       "    <tr>\n",
       "      <th>4</th>\n",
       "      <td>Princeton University</td>\n",
       "      <td>New Jersey</td>\n",
       "      <td>Princeton</td>\n",
       "      <td>Private</td>\n",
       "      <td>0</td>\n",
       "      <td>0</td>\n",
       "      <td>Christian</td>\n",
       "      <td>Doctoral University</td>\n",
       "      <td>NaN</td>\n",
       "      <td>1746-01-01</td>\n",
       "      <td>NaN</td>\n",
       "      <td>AJB</td>\n",
       "      <td>NaN</td>\n",
       "      <td>8,010</td>\n",
       "      <td>NaN</td>\n",
       "      <td>MSCHE</td>\n",
       "      <td>1740</td>\n",
       "    </tr>\n",
       "    <tr>\n",
       "      <th>5</th>\n",
       "      <td>Washington and Lee University</td>\n",
       "      <td>Virginia</td>\n",
       "      <td>Lexington</td>\n",
       "      <td>Private</td>\n",
       "      <td>0</td>\n",
       "      <td>0</td>\n",
       "      <td>Christian</td>\n",
       "      <td>Baccalaureate College</td>\n",
       "      <td>NaN</td>\n",
       "      <td>1749-01-01</td>\n",
       "      <td>NaN</td>\n",
       "      <td>AJB</td>\n",
       "      <td>NaN</td>\n",
       "      <td>2,223</td>\n",
       "      <td>NaN</td>\n",
       "      <td>SACS</td>\n",
       "      <td>1740</td>\n",
       "    </tr>\n",
       "  </tbody>\n",
       "</table>\n",
       "</div>"
      ],
      "text/plain": [
       "                            name         state                       location  \\\n",
       "1                Yale University   Connecticut                      New Haven   \n",
       "2     University of Pennsylvania  Pennsylvania                   Philadelphia   \n",
       "3               Moravian College  Pennsylvania  Bethlehem(Northampton County)   \n",
       "4           Princeton University    New Jersey                      Princeton   \n",
       "5  Washington and Lee University      Virginia                      Lexington   \n",
       "\n",
       "   control  for_profit  religious_controlled religious_orentation  \\\n",
       "1  Private           0                     0            Christian   \n",
       "2  Private           0                     0            Christian   \n",
       "3  Private           0                     0             Moravian   \n",
       "4  Private           0                     0            Christian   \n",
       "5  Private           0                     0            Christian   \n",
       "\n",
       "             degree_type focus founded_in closed_merged_in done closed_reason  \\\n",
       "1    Doctoral University   NaN 1701-01-01              NaN  AJB           NaN   \n",
       "2  Baccalaureate College   NaN 1740-01-01              NaN  AJB           NaN   \n",
       "3  Baccalaureate College   NaN 1742-01-01              NaN  AJB           NaN   \n",
       "4    Doctoral University   NaN 1746-01-01              NaN  AJB           NaN   \n",
       "5  Baccalaureate College   NaN 1749-01-01              NaN  AJB           NaN   \n",
       "\n",
       "  enrollment historically_black accreditation  decade  \n",
       "1     12,458                NaN           NaN    1700  \n",
       "2     25,007                NaN           NaN    1740  \n",
       "3      2,032                NaN           NaN    1740  \n",
       "4      8,010                NaN         MSCHE    1740  \n",
       "5      2,223                NaN          SACS    1740  "
      ]
     },
     "execution_count": 158,
     "metadata": {},
     "output_type": "execute_result"
    }
   ],
   "source": [
    "# Same as given code above\n",
    "secular_non_profit_colleges = colleges[\n",
    "    (colleges['control'] == \"Private\") &\n",
    "    (colleges['for_profit'] == 0) &\n",
    "    (colleges['religious_controlled'] == 0) \n",
    "]\n",
    "secular_non_profit_colleges.head(5)"
   ]
  },
  {
   "cell_type": "code",
   "execution_count": 162,
   "metadata": {},
   "outputs": [
    {
     "data": {
      "image/png": "[encoded data removed]",
      "text/plain": [
       "<Figure size 1080x720 with 1 Axes>"
      ]
     },
     "metadata": {
      "needs_background": "light"
     },
     "output_type": "display_data"
    }
   ],
   "source": [
    "plt.figure(figsize=fig_size)\n",
    "plt.xticks(x_range, rotation=45)\n",
    "sns.histplot(data=secular_non_profit_colleges, x=\"decade\", binwidth=10, binrange=bin_range)\n",
    "plt.title(\"Number of non profit, secular, bachelor's degree granting colleges founded by decade\");\n",
    "# plt.savefig(\"plots/plot_2.png\", facecolor='white')  # ignore facecolor for a transparent background"
   ]
  },
  {
   "cell_type": "markdown",
   "metadata": {},
   "source": [
    "#### 3. Comparison for profit, non profit colleges founded by decade."
   ]
  },
  {
   "cell_type": "markdown",
   "metadata": {},
   "source": [
    "Tried some different workarounds to get a good legend for the plot. This tweak seems to be the safest. Keeping 0 and 1 in the column and hardcoding the legends seems risky since the order gets reversed. Looking into if there is a cleaner way of doing it"
   ]
  },
  {
   "cell_type": "code",
   "execution_count": 212,
   "metadata": {},
   "outputs": [],
   "source": [
    "profits = colleges.copy()\n",
    "profits['for_profit'] = profits['for_profit'].astype(str)\n",
    "profits['for_profit'] = profits['for_profit'].str.replace('0', 'Non profit')\n",
    "profits['for_profit'] = profits['for_profit'].str.replace('1', 'Profit')"
   ]
  },
  {
   "cell_type": "code",
   "execution_count": 217,
   "metadata": {},
   "outputs": [
    {
     "data": {
      "image/png": "[encoded data removed]",
      "text/plain": [
       "<Figure size 1080x720 with 1 Axes>"
      ]
     },
     "metadata": {
      "needs_background": "light"
     },
     "output_type": "display_data"
    }
   ],
   "source": [
    "plt.figure(figsize=fig_size)\n",
    "plt.xticks(x_range, rotation=45)\n",
    "g = sns.histplot(data=profits, x=\"decade\", hue=\"for_profit\", multiple=\"dodge\", binwidth=10, binrange=bin_range)\n",
    "g.legend_.set_title(None)\n",
    "plt.title(\"Number of profit and non profit colleges founded by decade\");\n",
    "# plt.savefig(\"plots/plot_3.png\", facecolor='white')  # ignore facecolor for a transparent background"
   ]
  },
  {
   "cell_type": "code",
   "execution_count": null,
   "metadata": {},
   "outputs": [],
   "source": [
    "# This also works with original colleges dataframe, but risky to hardcode legends\n",
    "sns.histplot(data=colleges, x=\"decade\", hue=\"for_profit\", multiple=\"dodge\", binwidth=10, binrange=bin_range)\n",
    "plt.legend(loc='upper right', labels=['Profit', 'Non profit'])"
   ]
  },
  {
   "cell_type": "markdown",
   "metadata": {},
   "source": [
    "#### 4. Comparison religiously controlled, secular colleges founded by decade."
   ]
  },
  {
   "cell_type": "code",
   "execution_count": 214,
   "metadata": {},
   "outputs": [],
   "source": [
    "control = colleges.copy()\n",
    "control['religious_controlled'] = control['religious_controlled'].astype(str)\n",
    "control['religious_controlled'] = control['religious_controlled'].str.replace('0', 'Secular')\n",
    "control['religious_controlled'] = control['religious_controlled'].str.replace('1', 'Religiously')"
   ]
  },
  {
   "cell_type": "code",
   "execution_count": 218,
   "metadata": {},
   "outputs": [
    {
     "data": {
      "image/png": "[encoded data removed]",
      "text/plain": [
       "<Figure size 1080x720 with 1 Axes>"
      ]
     },
     "metadata": {
      "needs_background": "light"
     },
     "output_type": "display_data"
    }
   ],
   "source": [
    "plt.figure(figsize=fig_size)\n",
    "plt.xticks(x_range, rotation=45)\n",
    "g = sns.histplot(data=control, x=\"decade\", hue=\"religious_controlled\", multiple=\"dodge\", binwidth=10, binrange=bin_range)\n",
    "g.legend_.set_title(None)\n",
    "plt.title(\"Number of religiously controlled and secular colleges founded by decade\");\n",
    "# plt.savefig(\"plots/plot_4.png\", facecolor='white')  # ignore facecolor for a transparent background"
   ]
  },
  {
   "cell_type": "code",
   "execution_count": null,
   "metadata": {},
   "outputs": [],
   "source": [
    "# This also works with original colleges dataframe, but risky to hardcode legends\n",
    "sns.histplot(data=colleges, x=\"decade\", hue=\"religious_controlled\", multiple=\"dodge\", binwidth=10, binrange=bin_range)\n",
    "plt.legend(loc='upper right', labels=['Religiously', 'Secular'])"
   ]
  },
  {
   "cell_type": "code",
   "execution_count": null,
   "metadata": {},
   "outputs": [],
   "source": []
  }
 ],
 "metadata": {
  "kernelspec": {
   "display_name": "Python 3 (ipykernel)",
   "language": "python",
   "name": "python3"
  },
  "language_info": {
   "codemirror_mode": {
    "name": "ipython",
    "version": 3
   },
   "file_extension": ".py",
   "mimetype": "text/x-python",
   "name": "python",
   "nbconvert_exporter": "python",
   "pygments_lexer": "ipython3",
   "version": "3.9.12"
  }
 },
 "nbformat": 4,
 "nbformat_minor": 4
}
